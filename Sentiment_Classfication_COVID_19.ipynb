{
  "nbformat": 4,
  "nbformat_minor": 0,
  "metadata": {
    "colab": {
      "name": "Sentiment Classfication -COVID-19.ipynb",
      "provenance": [],
      "collapsed_sections": [],
      "include_colab_link": true
    },
    "kernelspec": {
      "display_name": "Python 3",
      "name": "python3"
    }
  },
  "cells": [
    {
      "cell_type": "markdown",
      "metadata": {
        "id": "view-in-github",
        "colab_type": "text"
      },
      "source": [
        "<a href=\"https://colab.research.google.com/github/Sinethemba-nongqoto/Research-project/blob/master/Sentiment_Classfication_COVID_19.ipynb\" target=\"_parent\"><img src=\"https://colab.research.google.com/assets/colab-badge.svg\" alt=\"Open In Colab\"/></a>"
      ]
    },
    {
      "cell_type": "code",
      "metadata": {
        "colab": {
          "base_uri": "https://localhost:8080/"
        },
        "id": "00tGKRX_Typw",
        "outputId": "130a9958-8976-4369-e79d-1ba76a84dbe4"
      },
      "source": [
        "#connecting to google drive\n",
        "from google.colab import drive\n",
        "drive.mount('/content/drive')\n",
        "from __future__ import absolute_import, division, print_function, unicode_literals\n",
        "try:\n",
        "  %tensorflow_version only exists in Colab.\n",
        "  %tensorflow_version 1.x\n",
        "except Exception:\n",
        "  pass"
      ],
      "execution_count": null,
      "outputs": [
        {
          "output_type": "stream",
          "name": "stdout",
          "text": [
            "Drive already mounted at /content/drive; to attempt to forcibly remount, call drive.mount(\"/content/drive\", force_remount=True).\n",
            "Unknown TensorFlow version: only exists in Colab.\n",
            "Currently selected TF version: 2.x\n",
            "Available versions:\n",
            " * 1.x\n",
            " * 2.x\n",
            "TensorFlow 1.x selected.\n"
          ]
        }
      ]
    },
    {
      "cell_type": "code",
      "metadata": {
        "id": "Alk66OdS5ULS"
      },
      "source": [
        "#!pip install tensorflow==2.0.0"
      ],
      "execution_count": null,
      "outputs": []
    },
    {
      "cell_type": "code",
      "metadata": {
        "id": "zme_1FoqxJ92"
      },
      "source": [
        "#!pip install pyyaml h5py"
      ],
      "execution_count": null,
      "outputs": []
    },
    {
      "cell_type": "code",
      "metadata": {
        "colab": {
          "base_uri": "https://localhost:8080/"
        },
        "id": "nJClGxA1iH5O",
        "outputId": "c4d32fea-07d9-42f7-ce31-ab4dc19226fc"
      },
      "source": [
        "%tensorflow_version 1.x\n",
        "import tensorflow as tf\n",
        "print(tf.__version__)"
      ],
      "execution_count": null,
      "outputs": [
        {
          "output_type": "stream",
          "name": "stdout",
          "text": [
            "2.0.0\n"
          ]
        }
      ]
    },
    {
      "cell_type": "markdown",
      "metadata": {
        "id": "_JiNi5W7a0-V"
      },
      "source": [
        "## importing libraries"
      ]
    },
    {
      "cell_type": "code",
      "metadata": {
        "id": "GzCJKcoWT1aa",
        "colab": {
          "base_uri": "https://localhost:8080/"
        },
        "outputId": "45cdcd8e-1feb-4a0d-921e-a53a32ceff09"
      },
      "source": [
        "import pandas as pd\n",
        "import numpy as np\n",
        "import matplotlib.pyplot as plt\n",
        "%matplotlib inline\n",
        "\n",
        "from nltk.corpus import stopwords\n",
        "from tensorflow.keras.preprocessing import sequence\n",
        "from tensorflow.keras.models import Sequential\n",
        "from tensorflow.keras.layers import Dense, Dropout, Activation\n",
        "from tensorflow.keras.layers import Embedding\n",
        "from tensorflow.keras.layers import Conv1D,Input, GlobalMaxPooling1D\n",
        "from keras.layers.core import Reshape, Flatten\n",
        "from tensorflow.keras.callbacks import EarlyStopping\n",
        "from tensorflow.keras.optimizers import SGD, RMSprop, Adagrad, Adadelta, Adam, Adamax, Nadam\n",
        "from tensorflow.keras.datasets import imdb\n",
        "from tensorflow.keras.models import Model\n",
        "from sklearn.metrics import accuracy_score\n",
        "import matplotlib.pyplot as plt \n",
        "import os \n",
        "import re\n",
        "import shutil\n",
        "import string \n",
        "from tensorflow.keras import regularizers\n",
        "from tensorflow.keras import layers\n",
        "from tensorflow.keras import losses\n",
        "from collections import Counter\n",
        "\n",
        "from sklearn.preprocessing import LabelEncoder\n",
        "from sklearn.model_selection import train_test_split\n",
        "from sklearn.metrics import classification_report\n",
        "\n",
        "from tensorflow.keras import preprocessing\n",
        "from tensorflow.keras.preprocessing.text import Tokenizer\n",
        "from tensorflow.keras.preprocessing.sequence import pad_sequences\n",
        "from tensorflow.keras.utils import to_categorical\n",
        "\n",
        "import pydot\n",
        "\n",
        "# gensim\n",
        "import gensim\n",
        "from gensim.models import Word2Vec\n",
        "from gensim.utils import simple_preprocess\n",
        "\n",
        "from gensim.models.keyedvectors import KeyedVectors\n"
      ],
      "execution_count": null,
      "outputs": [
        {
          "output_type": "stream",
          "name": "stderr",
          "text": [
            "Using TensorFlow backend.\n"
          ]
        }
      ]
    },
    {
      "cell_type": "markdown",
      "metadata": {
        "id": "vB_lXNW2awoE"
      },
      "source": [
        "## reading data from google drive"
      ]
    },
    {
      "cell_type": "code",
      "metadata": {
        "id": "EJWjUgzb6VXb"
      },
      "source": [
        "true_news = pd.read_csv('./drive/My Drive/Sentiment_analysis/True_v_False_news/COVID19-FNIR/trueNews.csv', sep=',')\n",
        "false_news = pd.read_csv('./drive/My Drive/Sentiment_analysis/True_v_False_news/COVID19-FNIR/fakeNews.csv', sep=',')"
      ],
      "execution_count": null,
      "outputs": []
    },
    {
      "cell_type": "markdown",
      "metadata": {
        "id": "t3ASfdGnaraT"
      },
      "source": [
        "## displaying head(top 10) of the data we just imported"
      ]
    },
    {
      "cell_type": "code",
      "metadata": {
        "colab": {
          "base_uri": "https://localhost:8080/",
          "height": 206
        },
        "id": "aMtLmlA-uZeg",
        "outputId": "0d70aa2d-3754-401b-e032-6aba767a1d50"
      },
      "source": [
        "true_news.head()"
      ],
      "execution_count": null,
      "outputs": [
        {
          "output_type": "execute_result",
          "data": {
            "text/html": [
              "<div>\n",
              "<style scoped>\n",
              "    .dataframe tbody tr th:only-of-type {\n",
              "        vertical-align: middle;\n",
              "    }\n",
              "\n",
              "    .dataframe tbody tr th {\n",
              "        vertical-align: top;\n",
              "    }\n",
              "\n",
              "    .dataframe thead th {\n",
              "        text-align: right;\n",
              "    }\n",
              "</style>\n",
              "<table border=\"1\" class=\"dataframe\">\n",
              "  <thead>\n",
              "    <tr style=\"text-align: right;\">\n",
              "      <th></th>\n",
              "      <th>Date_Posted</th>\n",
              "      <th>Link</th>\n",
              "      <th>Text</th>\n",
              "      <th>Region</th>\n",
              "      <th>Username</th>\n",
              "      <th>Publisher</th>\n",
              "      <th>Binary_Label</th>\n",
              "      <th>Poynter_Label</th>\n",
              "    </tr>\n",
              "  </thead>\n",
              "  <tbody>\n",
              "    <tr>\n",
              "      <th>0</th>\n",
              "      <td>02/11/2020</td>\n",
              "      <td>https://twitter.com/the_hindu/status/122725962...</td>\n",
              "      <td>Just in: Novel coronavirus named 'Covid-19': U...</td>\n",
              "      <td>India</td>\n",
              "      <td>the_hindu</td>\n",
              "      <td>The Hindu</td>\n",
              "      <td>1</td>\n",
              "      <td>True</td>\n",
              "    </tr>\n",
              "    <tr>\n",
              "      <th>1</th>\n",
              "      <td>02/12/2020</td>\n",
              "      <td>https://twitter.com/ndtv/status/12274908434742...</td>\n",
              "      <td>WHO officially names #coronavirus as Covid-19....</td>\n",
              "      <td>India</td>\n",
              "      <td>ndtv</td>\n",
              "      <td>NDTV</td>\n",
              "      <td>1</td>\n",
              "      <td>True</td>\n",
              "    </tr>\n",
              "    <tr>\n",
              "      <th>2</th>\n",
              "      <td>02/12/2020</td>\n",
              "      <td>https://twitter.com/the_hindu/status/122744471...</td>\n",
              "      <td>The #UN #health agency announced that \"COVID-1...</td>\n",
              "      <td>India</td>\n",
              "      <td>the_hindu</td>\n",
              "      <td>The Hindu</td>\n",
              "      <td>1</td>\n",
              "      <td>True</td>\n",
              "    </tr>\n",
              "    <tr>\n",
              "      <th>3</th>\n",
              "      <td>2/14/20</td>\n",
              "      <td>https://twitter.com/IndiaToday/status/12282764...</td>\n",
              "      <td>The Indian Embassy in Tokyo has said that one ...</td>\n",
              "      <td>India</td>\n",
              "      <td>indiatoday</td>\n",
              "      <td>IndiaToday</td>\n",
              "      <td>1</td>\n",
              "      <td>True</td>\n",
              "    </tr>\n",
              "    <tr>\n",
              "      <th>4</th>\n",
              "      <td>2/15/20</td>\n",
              "      <td>https://twitter.com/the_hindu/status/122854247...</td>\n",
              "      <td>Ground Zero | How Kerala used its experience i...</td>\n",
              "      <td>India</td>\n",
              "      <td>the_hindu</td>\n",
              "      <td>The Hindu</td>\n",
              "      <td>1</td>\n",
              "      <td>True</td>\n",
              "    </tr>\n",
              "  </tbody>\n",
              "</table>\n",
              "</div>"
            ],
            "text/plain": [
              "  Date_Posted  ... Poynter_Label\n",
              "0  02/11/2020  ...          True\n",
              "1  02/12/2020  ...          True\n",
              "2  02/12/2020  ...          True\n",
              "3     2/14/20  ...          True\n",
              "4     2/15/20  ...          True\n",
              "\n",
              "[5 rows x 8 columns]"
            ]
          },
          "metadata": {},
          "execution_count": 7
        }
      ]
    },
    {
      "cell_type": "code",
      "metadata": {
        "colab": {
          "base_uri": "https://localhost:8080/",
          "height": 206
        },
        "id": "kRHhLUoAueJt",
        "outputId": "382018ed-12c7-4ccf-b85b-82f782f2bfbe"
      },
      "source": [
        "T_news= true_news.drop(['Date_Posted','Link', 'Username','Region','Publisher', 'Poynter_Label'], axis=1)\n",
        "T_news.head()"
      ],
      "execution_count": null,
      "outputs": [
        {
          "output_type": "execute_result",
          "data": {
            "text/html": [
              "<div>\n",
              "<style scoped>\n",
              "    .dataframe tbody tr th:only-of-type {\n",
              "        vertical-align: middle;\n",
              "    }\n",
              "\n",
              "    .dataframe tbody tr th {\n",
              "        vertical-align: top;\n",
              "    }\n",
              "\n",
              "    .dataframe thead th {\n",
              "        text-align: right;\n",
              "    }\n",
              "</style>\n",
              "<table border=\"1\" class=\"dataframe\">\n",
              "  <thead>\n",
              "    <tr style=\"text-align: right;\">\n",
              "      <th></th>\n",
              "      <th>Text</th>\n",
              "      <th>Binary_Label</th>\n",
              "    </tr>\n",
              "  </thead>\n",
              "  <tbody>\n",
              "    <tr>\n",
              "      <th>0</th>\n",
              "      <td>Just in: Novel coronavirus named 'Covid-19': U...</td>\n",
              "      <td>1</td>\n",
              "    </tr>\n",
              "    <tr>\n",
              "      <th>1</th>\n",
              "      <td>WHO officially names #coronavirus as Covid-19....</td>\n",
              "      <td>1</td>\n",
              "    </tr>\n",
              "    <tr>\n",
              "      <th>2</th>\n",
              "      <td>The #UN #health agency announced that \"COVID-1...</td>\n",
              "      <td>1</td>\n",
              "    </tr>\n",
              "    <tr>\n",
              "      <th>3</th>\n",
              "      <td>The Indian Embassy in Tokyo has said that one ...</td>\n",
              "      <td>1</td>\n",
              "    </tr>\n",
              "    <tr>\n",
              "      <th>4</th>\n",
              "      <td>Ground Zero | How Kerala used its experience i...</td>\n",
              "      <td>1</td>\n",
              "    </tr>\n",
              "  </tbody>\n",
              "</table>\n",
              "</div>"
            ],
            "text/plain": [
              "                                                Text  Binary_Label\n",
              "0  Just in: Novel coronavirus named 'Covid-19': U...             1\n",
              "1  WHO officially names #coronavirus as Covid-19....             1\n",
              "2  The #UN #health agency announced that \"COVID-1...             1\n",
              "3  The Indian Embassy in Tokyo has said that one ...             1\n",
              "4  Ground Zero | How Kerala used its experience i...             1"
            ]
          },
          "metadata": {},
          "execution_count": 8
        }
      ]
    },
    {
      "cell_type": "code",
      "metadata": {
        "colab": {
          "base_uri": "https://localhost:8080/",
          "height": 293
        },
        "id": "tBukBnd5-Kmq",
        "outputId": "9ad7250e-8d7f-4be1-f97c-78fdda6dbc1c"
      },
      "source": [
        "false_news.head()"
      ],
      "execution_count": null,
      "outputs": [
        {
          "output_type": "execute_result",
          "data": {
            "text/html": [
              "<div>\n",
              "<style scoped>\n",
              "    .dataframe tbody tr th:only-of-type {\n",
              "        vertical-align: middle;\n",
              "    }\n",
              "\n",
              "    .dataframe tbody tr th {\n",
              "        vertical-align: top;\n",
              "    }\n",
              "\n",
              "    .dataframe thead th {\n",
              "        text-align: right;\n",
              "    }\n",
              "</style>\n",
              "<table border=\"1\" class=\"dataframe\">\n",
              "  <thead>\n",
              "    <tr style=\"text-align: right;\">\n",
              "      <th></th>\n",
              "      <th>Date_Posted</th>\n",
              "      <th>Link</th>\n",
              "      <th>Text</th>\n",
              "      <th>Region</th>\n",
              "      <th>Country</th>\n",
              "      <th>Explanation</th>\n",
              "      <th>Origin</th>\n",
              "      <th>Origin_URL</th>\n",
              "      <th>Fact_checked_by</th>\n",
              "      <th>Poynter_Label</th>\n",
              "      <th>Binary_Label</th>\n",
              "    </tr>\n",
              "  </thead>\n",
              "  <tbody>\n",
              "    <tr>\n",
              "      <th>0</th>\n",
              "      <td>02/07/2020</td>\n",
              "      <td>https://www.poynter.org/?ifcn_misinformation=t...</td>\n",
              "      <td>Tencent revealed the real number of deaths.\\t\\t</td>\n",
              "      <td>Europe</td>\n",
              "      <td>France</td>\n",
              "      <td>The screenshot is questionable.</td>\n",
              "      <td>Twitter</td>\n",
              "      <td>https://www.liberation.fr/checknews/2020/02/07...</td>\n",
              "      <td>CheckNews</td>\n",
              "      <td>False</td>\n",
              "      <td>0</td>\n",
              "    </tr>\n",
              "    <tr>\n",
              "      <th>1</th>\n",
              "      <td>02/07/2020</td>\n",
              "      <td>https://www.poynter.org/?ifcn_misinformation=t...</td>\n",
              "      <td>Taking chlorine dioxide helps fight coronavir...</td>\n",
              "      <td>Europe</td>\n",
              "      <td>Germany</td>\n",
              "      <td>Chlorine dioxide does guard against the corona...</td>\n",
              "      <td>Website</td>\n",
              "      <td>https://correctiv.org/faktencheck/medizin-und-...</td>\n",
              "      <td>Correctiv</td>\n",
              "      <td>False</td>\n",
              "      <td>0</td>\n",
              "    </tr>\n",
              "    <tr>\n",
              "      <th>2</th>\n",
              "      <td>02/07/2020</td>\n",
              "      <td>https://www.poynter.org/?ifcn_misinformation=t...</td>\n",
              "      <td>This video shows workmen uncovering a bat-inf...</td>\n",
              "      <td>India</td>\n",
              "      <td>India</td>\n",
              "      <td>A video shows bats nesting in the roof; howev...</td>\n",
              "      <td>Facebook</td>\n",
              "      <td>https://factcheck.afp.com/video-shows-workmen-...</td>\n",
              "      <td>AFP</td>\n",
              "      <td>False</td>\n",
              "      <td>0</td>\n",
              "    </tr>\n",
              "    <tr>\n",
              "      <th>3</th>\n",
              "      <td>02/07/2020</td>\n",
              "      <td>https://www.poynter.org/?ifcn_misinformation=t...</td>\n",
              "      <td>The Asterix comic books and The Simpsons pred...</td>\n",
              "      <td>India</td>\n",
              "      <td>India</td>\n",
              "      <td>Coronavirus has been around since the 1960s. T...</td>\n",
              "      <td>Twitter</td>\n",
              "      <td>https://www.boomlive.in/health/did-the-simpson...</td>\n",
              "      <td>BOOM FactCheck</td>\n",
              "      <td>False</td>\n",
              "      <td>0</td>\n",
              "    </tr>\n",
              "    <tr>\n",
              "      <th>4</th>\n",
              "      <td>02/07/2020</td>\n",
              "      <td>https://www.poynter.org/?ifcn_misinformation=c...</td>\n",
              "      <td>Chinese President Xi Jinping visited a mosque...</td>\n",
              "      <td>India</td>\n",
              "      <td>India</td>\n",
              "      <td>Chinese President Xi Jinping's visit to the mo...</td>\n",
              "      <td>Facebook</td>\n",
              "      <td>http://newsmobile.in/articles/2020/02/07/chine...</td>\n",
              "      <td>NewsMobile</td>\n",
              "      <td>False</td>\n",
              "      <td>0</td>\n",
              "    </tr>\n",
              "  </tbody>\n",
              "</table>\n",
              "</div>"
            ],
            "text/plain": [
              "  Date_Posted  ... Binary_Label\n",
              "0  02/07/2020  ...            0\n",
              "1  02/07/2020  ...            0\n",
              "2  02/07/2020  ...            0\n",
              "3  02/07/2020  ...            0\n",
              "4  02/07/2020  ...            0\n",
              "\n",
              "[5 rows x 11 columns]"
            ]
          },
          "metadata": {},
          "execution_count": 9
        }
      ]
    },
    {
      "cell_type": "code",
      "metadata": {
        "colab": {
          "base_uri": "https://localhost:8080/",
          "height": 206
        },
        "id": "oyQUp9-DtMdQ",
        "outputId": "51fdb51e-104b-4f6e-85f1-a861a6e53239"
      },
      "source": [
        "F_news= false_news.drop(['Date_Posted','Link', 'Country','Region','Explanation','Origin','Origin_URL', 'Fact_checked_by' ,'Poynter_Label'], axis=1)\n",
        "F_news.head()"
      ],
      "execution_count": null,
      "outputs": [
        {
          "output_type": "execute_result",
          "data": {
            "text/html": [
              "<div>\n",
              "<style scoped>\n",
              "    .dataframe tbody tr th:only-of-type {\n",
              "        vertical-align: middle;\n",
              "    }\n",
              "\n",
              "    .dataframe tbody tr th {\n",
              "        vertical-align: top;\n",
              "    }\n",
              "\n",
              "    .dataframe thead th {\n",
              "        text-align: right;\n",
              "    }\n",
              "</style>\n",
              "<table border=\"1\" class=\"dataframe\">\n",
              "  <thead>\n",
              "    <tr style=\"text-align: right;\">\n",
              "      <th></th>\n",
              "      <th>Text</th>\n",
              "      <th>Binary_Label</th>\n",
              "    </tr>\n",
              "  </thead>\n",
              "  <tbody>\n",
              "    <tr>\n",
              "      <th>0</th>\n",
              "      <td>Tencent revealed the real number of deaths.\\t\\t</td>\n",
              "      <td>0</td>\n",
              "    </tr>\n",
              "    <tr>\n",
              "      <th>1</th>\n",
              "      <td>Taking chlorine dioxide helps fight coronavir...</td>\n",
              "      <td>0</td>\n",
              "    </tr>\n",
              "    <tr>\n",
              "      <th>2</th>\n",
              "      <td>This video shows workmen uncovering a bat-inf...</td>\n",
              "      <td>0</td>\n",
              "    </tr>\n",
              "    <tr>\n",
              "      <th>3</th>\n",
              "      <td>The Asterix comic books and The Simpsons pred...</td>\n",
              "      <td>0</td>\n",
              "    </tr>\n",
              "    <tr>\n",
              "      <th>4</th>\n",
              "      <td>Chinese President Xi Jinping visited a mosque...</td>\n",
              "      <td>0</td>\n",
              "    </tr>\n",
              "  </tbody>\n",
              "</table>\n",
              "</div>"
            ],
            "text/plain": [
              "                                                Text  Binary_Label\n",
              "0    Tencent revealed the real number of deaths.\\t\\t             0\n",
              "1   Taking chlorine dioxide helps fight coronavir...             0\n",
              "2   This video shows workmen uncovering a bat-inf...             0\n",
              "3   The Asterix comic books and The Simpsons pred...             0\n",
              "4   Chinese President Xi Jinping visited a mosque...             0"
            ]
          },
          "metadata": {},
          "execution_count": 10
        }
      ]
    },
    {
      "cell_type": "code",
      "metadata": {
        "colab": {
          "base_uri": "https://localhost:8080/"
        },
        "id": "j7xrg9YNAiKZ",
        "outputId": "fdaa937b-84a1-43ef-c11f-ab134f7e7db2"
      },
      "source": [
        "# Concatenating the true news dataset and false news dataset into one dataframe\n",
        "news_data = pd.concat([T_news,F_news])\n",
        "print(news_data.head())\n",
        "print('======================================')\n",
        "print('The total number of data:',len(news_data))"
      ],
      "execution_count": null,
      "outputs": [
        {
          "output_type": "stream",
          "name": "stdout",
          "text": [
            "                                                Text  Binary_Label\n",
            "0  Just in: Novel coronavirus named 'Covid-19': U...             1\n",
            "1  WHO officially names #coronavirus as Covid-19....             1\n",
            "2  The #UN #health agency announced that \"COVID-1...             1\n",
            "3  The Indian Embassy in Tokyo has said that one ...             1\n",
            "4  Ground Zero | How Kerala used its experience i...             1\n",
            "======================================\n",
            "The total number of data: 7588\n"
          ]
        }
      ]
    },
    {
      "cell_type": "code",
      "metadata": {
        "id": "yRrcavxw7_kC"
      },
      "source": [
        "# Saving the dataset of the news data\n",
        "news_data.to_csv(r'/content/sample_data/Covid19_news.csv', index = False)\n",
        "news_data.to_csv(r'./drive/My Drive/Sentiment_analysis/True_v_False_news/COVID19-FNIR/Covid19_news.csv', index = False)"
      ],
      "execution_count": null,
      "outputs": []
    },
    {
      "cell_type": "markdown",
      "metadata": {
        "id": "FCcloutBsnnH"
      },
      "source": [
        "## Sentiment analysis\n",
        "\n",
        "This notebook trains a sentiment analysis model to classify COVID-19 news as true news or false news, based on the text of the news. This is an binary- or two class-classification, an important and widely applicable kind of machine learning problem.\n",
        "\n",
        "The dataset contains the text of 7588 news from the internet social media database. We will split by 80% training dataset and 20% validation dataset which will be 6,070 news for training and 1518 news for validation news.\n",
        "\n",
        "The one category of true news and false news is balanced."
      ]
    },
    {
      "cell_type": "code",
      "metadata": {
        "id": "7ZzV2P4NHO_c"
      },
      "source": [
        "# split for cross-validation (train 80%, and  valid 20% ------------and test 10%)\n",
        "x_train, x_val, y_train, y_val = train_test_split(news_data['Text'].tolist(),news_data['Binary_Label'].tolist(), test_size=0.2, random_state=42)\n",
        "#x_test, x_val, y_test, y_val = train_test_split(x_test,y_test, test_size=0.5, random_state=42)"
      ],
      "execution_count": null,
      "outputs": []
    },
    {
      "cell_type": "code",
      "metadata": {
        "colab": {
          "base_uri": "https://localhost:8080/"
        },
        "id": "8gk5yIPgIVPK",
        "outputId": "8b9649e6-fe1c-4300-d882-b5de23b75c39"
      },
      "source": [
        "print(len(x_train))\n",
        "#print(len(x_test))\n",
        "print(len(x_val))"
      ],
      "execution_count": null,
      "outputs": [
        {
          "output_type": "stream",
          "name": "stdout",
          "text": [
            "6070\n",
            "1518\n"
          ]
        }
      ]
    },
    {
      "cell_type": "code",
      "metadata": {
        "id": "-36lFpnAKjA-"
      },
      "source": [
        "# save the training data, validation and testing data\n",
        "train, valid = train_test_split(news_data, test_size=0.2, random_state=42)\n",
        "#test, valid = train_test_split(test, test_size=0.5, random_state=42)\n",
        "train.to_csv(r'/content/sample_data/train.csv', index = False)\n",
        "#test.to_csv(r'/content/sample_data/test.csv', index = False)\n",
        "valid.to_csv(r'/content/sample_data/valid.csv', index = False)"
      ],
      "execution_count": null,
      "outputs": []
    },
    {
      "cell_type": "code",
      "metadata": {
        "colab": {
          "base_uri": "https://localhost:8080/"
        },
        "id": "mHgkIZ_zfeRI",
        "outputId": "10da276e-8efa-41a6-9ec6-c716eb3cc5bf"
      },
      "source": [
        "print('train shape:',train.shape)\n",
        "#print('test shape:',test.shape)\n",
        "print('test shape:',valid.shape)"
      ],
      "execution_count": null,
      "outputs": [
        {
          "output_type": "stream",
          "name": "stdout",
          "text": [
            "train shape: (6070, 2)\n",
            "test shape: (1518, 2)\n"
          ]
        }
      ]
    },
    {
      "cell_type": "markdown",
      "metadata": {
        "id": "yI7hK335a31U"
      },
      "source": [
        "Let us define methods to pre-processing\n",
        "\n",
        "we now preprocess the data"
      ]
    },
    {
      "cell_type": "markdown",
      "metadata": {
        "id": "gLC4YTy_Dvbg"
      },
      "source": [
        "## Step1 : Text cleaning : 🧹\n",
        "\n",
        "Regardless of the EDA step that can bring out the uncleaned elements and help us to customize the cleaning code, we can apply some basic data cleaning that are recurrent in tweeters such as removing punctuation, html tags urls and emojis,...\n",
        "\n",
        "Below a python code that can be be reproduced in other similar use cases"
      ]
    },
    {
      "cell_type": "code",
      "metadata": {
        "id": "eXgl15eCbqoW"
      },
      "source": [
        "def remove_emoji(text):\n",
        "    emoji_pattern = re.compile(\"[\"\n",
        "                           u\"\\U0001F600-\\U0001F64F\"  # emoticons\n",
        "                           u\"\\U0001F300-\\U0001F5FF\"  # symbols & pictographs\n",
        "                           u\"\\U0001F680-\\U0001F6FF\"  # transport & map symbols\n",
        "                           u\"\\U0001F1E0-\\U0001F1FF\"  # flags (iOS)\n",
        "                           u\"\\U00002702-\\U000027B0\"\n",
        "                           u\"\\U000024C2-\\U0001F251\"\n",
        "                           \"]+\", flags=re.UNICODE)\n",
        "    return emoji_pattern.sub(r'', text)\n",
        "\n",
        "def remove_url(text): \n",
        "    url_pattern  = re.compile('http[s]?://(?:[a-zA-Z]|[0-9]|[$-_@.&+]|[!*\\(\\),]|(?:%[0-9a-fA-F][0-9a-fA-F]))+')\n",
        "    return url_pattern.sub(r'', text)\n",
        " # converting return value from list to string\n",
        "\n",
        "\n",
        "\n",
        "def clean_text(text ): \n",
        "    delete_dict = {sp_character: '' for sp_character in string.punctuation} \n",
        "    delete_dict[' '] = ' ' \n",
        "    table = str.maketrans(delete_dict)\n",
        "    text1 = text.translate(table)\n",
        "    #print('cleaned:'+text1)\n",
        "    textArr= text1.split()\n",
        "    text2 = ' '.join([w for w in textArr if ( not w.isdigit() and  ( not w.isdigit() and len(w)>2))]) \n",
        "    \n",
        "    return text2.lower()"
      ],
      "execution_count": null,
      "outputs": []
    },
    {
      "cell_type": "code",
      "metadata": {
        "colab": {
          "base_uri": "https://localhost:8080/"
        },
        "id": "rYBq7slbz5Nk",
        "outputId": "c20acb43-caa9-4c9e-aaa2-13c80e790cc7"
      },
      "source": [
        "train_data= pd.read_csv(r'/content/sample_data/train.csv')\n",
        "train_data.dropna(axis = 0, how ='any',inplace=True) \n",
        "train_data['Num_words_text'] = train_data['Text'].apply(lambda x:len(str(x).split())) \n",
        "mask = train_data['Num_words_text'] >2\n",
        "train_data = train_data[mask]\n",
        "print('-------Train data--------')\n",
        "print('Rumoured news=0, and Non-rumoured news=1')\n",
        "print(train_data['Binary_Label'].value_counts())\n",
        "print(len(train_data))\n",
        "print('-------------------------')\n",
        "max_train_sentence_length  = train_data['Num_words_text'].max()\n",
        "\n",
        "\n",
        "train_data['Text'] = train_data['Text'].apply(remove_emoji)\n",
        "train_data['Text'] = train_data['Text'].apply(remove_url)\n",
        "train_data['Text'] = train_data['Text'].apply(clean_text)\n",
        "\n",
        "valid_data= pd.read_csv(r'/content/sample_data/valid.csv')\n",
        "valid_data.dropna(axis = 0, how ='any',inplace=True) \n",
        "valid_data['Num_words_text'] = valid_data['Text'].apply(lambda x:len(str(x).split())) \n",
        "max_valid_sentence_length  = valid_data['Num_words_text'].max()\n",
        "\n",
        "mask = valid_data['Num_words_text'] >2\n",
        "valid_data = valid_data[mask]\n",
        "print('-------Validation data--------')\n",
        "print('Rumoured news=0, and Non-rumoured news=1')\n",
        "print(valid_data['Binary_Label'].value_counts())\n",
        "print(len(valid_data))\n",
        "print('-------------------------')\n",
        "\n",
        "valid_data['Text'] = valid_data['Text'].apply(remove_emoji)\n",
        "valid_data['Text'] = valid_data['Text'].apply(remove_url)\n",
        "valid_data['Text'] = valid_data['Text'].apply(clean_text)\n",
        "\n",
        "\n",
        "print('Train Max Sentence Length :'+str(max_train_sentence_length))\n",
        "print('Validation Max Sentence Length :'+str(max_valid_sentence_length))\n",
        "\n",
        "#all_sentences = train_data['text'].tolist() + valid_data['text'].tolist()"
      ],
      "execution_count": null,
      "outputs": [
        {
          "output_type": "stream",
          "name": "stdout",
          "text": [
            "-------Train data--------\n",
            "Rumoured news=0, and Non-rumoured news=1\n",
            "0    3055\n",
            "1    3007\n",
            "Name: Binary_Label, dtype: int64\n",
            "6062\n",
            "-------------------------\n",
            "-------Validation data--------\n",
            "Rumoured news=0, and Non-rumoured news=1\n",
            "1    786\n",
            "0    729\n",
            "Name: Binary_Label, dtype: int64\n",
            "1515\n",
            "-------------------------\n",
            "Train Max Sentence Length :84\n",
            "Validation Max Sentence Length :82\n"
          ]
        }
      ]
    },
    {
      "cell_type": "markdown",
      "metadata": {
        "id": "aELbFleuJsr1"
      },
      "source": [
        "# Step 2: Text pre-processing \n",
        "\n",
        "As mentioned before, machine learning algorithms take numbers as inputs, not text, which means that we need to convert the texts into numerical vectors.\n",
        "We proceed as follows:\n",
        "## 1. Tokenization\n",
        "\n",
        "It consists in dividing the texts into words or smaller sub-texts, allowing us to determine the “vocabulary” of the dataset (set of unique tokens present in the data). Usually we use word-level representation. For our exemple we will use NLTK Tokenizer()\n",
        "## 2. Word indexing:\n",
        "\n",
        "Construct a vocablary_index mapper based on word frequency: the index would be inversely proportional to the word occurrence frequency in the overall dataset. the most frequent world would have index=1.. And every single word would get a unique index.\n",
        "\n",
        "These two steps are factorized as follows:"
      ]
    },
    {
      "cell_type": "code",
      "metadata": {
        "id": "7ct4jeIgvRCc"
      },
      "source": [
        "#Tokenize the sentences\n",
        "tokenizer = Tokenizer()\n",
        "\n",
        "#preparing vocabulary\n",
        "tokenizer.fit_on_texts(list(x_train))\n",
        "\n",
        "#converting text into integer sequences\n",
        "x_tr_seq  = tokenizer.texts_to_sequences(x_train) \n",
        "x_val_seq = tokenizer.texts_to_sequences(x_val)\n",
        "\n",
        "#padding to prepare sequences of same length\n",
        "x_tr_seq  = pad_sequences(x_tr_seq, maxlen=90)\n",
        "x_val_seq = pad_sequences(x_val_seq, maxlen=90)"
      ],
      "execution_count": null,
      "outputs": []
    },
    {
      "cell_type": "markdown",
      "metadata": {
        "id": "YCBXEPMCv8PW"
      },
      "source": [
        "Let’s take a glance at the number of unique words in the training data:"
      ]
    },
    {
      "cell_type": "code",
      "metadata": {
        "colab": {
          "base_uri": "https://localhost:8080/"
        },
        "id": "iBJ3HEe4vRFK",
        "outputId": "07a49629-c28e-4cb0-e2c9-8e930d3211e9"
      },
      "source": [
        "size_of_vocabulary=len(tokenizer.word_index) + 1 #+1 for padding\n",
        "print(size_of_vocabulary)"
      ],
      "execution_count": null,
      "outputs": [
        {
          "output_type": "stream",
          "name": "stdout",
          "text": [
            "15911\n"
          ]
        }
      ]
    },
    {
      "cell_type": "markdown",
      "metadata": {
        "id": "a-Eh3wjNwNJ-"
      },
      "source": [
        "We will build two different (Word2Vec and GloVe) NLP models of the same architecture. The first model learns embeddings from scratch and the second model uses pretrained word embeddings.\n",
        "\n",
        "Defining the architecture – Learning Embeddings from scratch:"
      ]
    },
    {
      "cell_type": "code",
      "metadata": {
        "colab": {
          "base_uri": "https://localhost:8080/"
        },
        "id": "kFdhWCDKvRHb",
        "outputId": "47bf50ae-2fff-4719-8760-27a2bc794f77"
      },
      "source": [
        "#deep learning library\n",
        "from keras.models import *\n",
        "from keras.layers import *\n",
        "from keras.callbacks import *\n",
        "\n",
        "model=Sequential()\n",
        "\n",
        "#embedding layer\n",
        "model.add(Embedding(size_of_vocabulary,300,input_length=90,trainable=True)) \n",
        "\n",
        "#convolutional layer\n",
        "model.add(Conv1D(128,2, activation='relu',\\\n",
        "                                 kernel_regularizer = regularizers.l2(0.01),\\\n",
        "                                 bias_regularizer = regularizers.l2(0.01)))\n",
        "\n",
        "#lstm layer\n",
        "model.add(LSTM(128,return_sequences=True,dropout=0.2))\n",
        "\n",
        "#GlobalMaxpooling\n",
        "model.add(GlobalMaxPooling1D())\n",
        "\n",
        "#Dense Layer\n",
        "model.add(Dense(64,activation='relu')) \n",
        "model.add(Dense(1,activation='sigmoid')) \n",
        " \n",
        "#Add loss function, metrics, optimizer\n",
        "model.compile(optimizer='adam', loss='binary_crossentropy',metrics=[\"acc\"]) \n",
        "\n",
        "#Adding callbacks\n",
        "es = EarlyStopping(monitor='val_loss', mode='min', verbose=1,patience=3)\n",
        "mc=ModelCheckpoint('best_model.h5', monitor='val_acc', mode='max', save_best_only=True,verbose=1)  \n",
        "\n",
        "#Print summary of model\n",
        "print(model.summary())"
      ],
      "execution_count": null,
      "outputs": [
        {
          "output_type": "stream",
          "name": "stdout",
          "text": [
            "Model: \"sequential_1\"\n",
            "_________________________________________________________________\n",
            "Layer (type)                 Output Shape              Param #   \n",
            "=================================================================\n",
            "embedding_1 (Embedding)      (None, 90, 300)           4773300   \n",
            "_________________________________________________________________\n",
            "conv1d_1 (Conv1D)            (None, 89, 128)           76928     \n",
            "_________________________________________________________________\n",
            "lstm_1 (LSTM)                (None, 89, 128)           131584    \n",
            "_________________________________________________________________\n",
            "global_max_pooling1d_1 (Glob (None, 128)               0         \n",
            "_________________________________________________________________\n",
            "dense_1 (Dense)              (None, 64)                8256      \n",
            "_________________________________________________________________\n",
            "dense_2 (Dense)              (None, 1)                 65        \n",
            "=================================================================\n",
            "Total params: 4,990,133\n",
            "Trainable params: 4,990,133\n",
            "Non-trainable params: 0\n",
            "_________________________________________________________________\n",
            "None\n"
          ]
        }
      ]
    },
    {
      "cell_type": "markdown",
      "metadata": {
        "id": "I40dMlwZxyse"
      },
      "source": [
        "The total number of trainable parameters in the model is 4,990,133. Out of this, the Embedding layer contributes to 4,773,300 parameters and convulation layer contributes to 76928 parameters. That’s huge!, with high trainable parameters like this this might slower down the training process"
      ]
    },
    {
      "cell_type": "markdown",
      "metadata": {
        "id": "rSPVuWp9zLEy"
      },
      "source": [
        "Training the model:"
      ]
    },
    {
      "cell_type": "code",
      "metadata": {
        "colab": {
          "base_uri": "https://localhost:8080/"
        },
        "id": "DoOShkAmvRKT",
        "outputId": "d2d08bbb-6e66-4875-8b97-eae86495a1e9"
      },
      "source": [
        "history = model.fit(np.array(x_tr_seq),np.array(y_train),batch_size=128,epochs=20,validation_data=(np.array(x_val_seq),np.array(y_val)),verbose=1,callbacks=[es,mc])"
      ],
      "execution_count": null,
      "outputs": [
        {
          "output_type": "stream",
          "name": "stderr",
          "text": [
            "/usr/local/lib/python3.7/dist-packages/tensorflow_core/python/framework/indexed_slices.py:424: UserWarning: Converting sparse IndexedSlices to a dense Tensor of unknown shape. This may consume a large amount of memory.\n",
            "  \"Converting sparse IndexedSlices to a dense Tensor of unknown shape. \"\n"
          ]
        },
        {
          "output_type": "stream",
          "name": "stdout",
          "text": [
            "Train on 6070 samples, validate on 1518 samples\n",
            "Epoch 1/20\n",
            "6070/6070 [==============================] - 35s 6ms/step - loss: 1.2046 - acc: 0.8995 - val_loss: 0.4036 - val_acc: 0.9855\n",
            "\n",
            "Epoch 00001: val_acc improved from -inf to 0.98551, saving model to best_model.h5\n",
            "Epoch 2/20\n",
            "6070/6070 [==============================] - 34s 6ms/step - loss: 0.1896 - acc: 0.9969 - val_loss: 0.1038 - val_acc: 0.9908\n",
            "\n",
            "Epoch 00002: val_acc improved from 0.98551 to 0.99078, saving model to best_model.h5\n",
            "Epoch 3/20\n",
            "6070/6070 [==============================] - 34s 6ms/step - loss: 0.0461 - acc: 0.9998 - val_loss: 0.0590 - val_acc: 0.9875\n",
            "\n",
            "Epoch 00003: val_acc did not improve from 0.99078\n",
            "Epoch 4/20\n",
            "6070/6070 [==============================] - 34s 6ms/step - loss: 0.0176 - acc: 0.9998 - val_loss: 0.0504 - val_acc: 0.9881\n",
            "\n",
            "Epoch 00004: val_acc did not improve from 0.99078\n",
            "Epoch 5/20\n",
            "6070/6070 [==============================] - 34s 6ms/step - loss: 0.0090 - acc: 0.9997 - val_loss: 0.0596 - val_acc: 0.9888\n",
            "\n",
            "Epoch 00005: val_acc did not improve from 0.99078\n",
            "Epoch 6/20\n",
            "6070/6070 [==============================] - 33s 5ms/step - loss: 0.0082 - acc: 0.9997 - val_loss: 0.0650 - val_acc: 0.9868\n",
            "\n",
            "Epoch 00006: val_acc did not improve from 0.99078\n",
            "Epoch 7/20\n",
            "6070/6070 [==============================] - 33s 5ms/step - loss: 0.0183 - acc: 0.9979 - val_loss: 0.0664 - val_acc: 0.9895\n",
            "\n",
            "Epoch 00007: val_acc did not improve from 0.99078\n",
            "Epoch 00007: early stopping\n"
          ]
        }
      ]
    },
    {
      "cell_type": "markdown",
      "metadata": {
        "id": "A2V1ZrYbA91l"
      },
      "source": [
        "The plot for loss between the training set and validation set."
      ]
    },
    {
      "cell_type": "code",
      "metadata": {
        "colab": {
          "base_uri": "https://localhost:8080/",
          "height": 281
        },
        "id": "q-yyYc2bAXJp",
        "outputId": "d3edaef6-d021-48ea-b925-7566f7dca034"
      },
      "source": [
        "plt.figure(0)\n",
        "\n",
        "plt.title(\"Loss\")\n",
        "\n",
        "plt.plot(history.history['loss'], 'r', label='Training')\n",
        "\n",
        "plt.plot(history.history['val_loss'], 'b', label='Validation')\n",
        "\n",
        "plt.legend()\n",
        "\n",
        "plt.show()"
      ],
      "execution_count": null,
      "outputs": [
        {
          "output_type": "display_data",
          "data": {
            "image/png": "[encoded data removed]",
            "text/plain": [
              "<Figure size 432x288 with 1 Axes>"
            ]
          },
          "metadata": {
            "needs_background": "light"
          }
        }
      ]
    },
    {
      "cell_type": "markdown",
      "metadata": {
        "id": "PDHIydn9_Hb0"
      },
      "source": [
        "The plot for accuracy between the training set and validation set."
      ]
    },
    {
      "cell_type": "code",
      "metadata": {
        "colab": {
          "base_uri": "https://localhost:8080/",
          "height": 281
        },
        "id": "NTCvAl4nBH9f",
        "outputId": "03a76d09-ccd3-40fc-cef1-90c919548e75"
      },
      "source": [
        "plt.figure(1)\n",
        "\n",
        "plt.title(\"Accuracy\")\n",
        "\n",
        "plt.plot(history.history['acc'], 'r', label='Training')\n",
        "\n",
        "plt.plot(history.history['val_acc'], 'b', label='Validation')\n",
        "\n",
        "plt.legend()\n",
        "\n",
        "plt.show()"
      ],
      "execution_count": null,
      "outputs": [
        {
          "output_type": "display_data",
          "data": {
            "image/png": "[encoded data removed]",
            "text/plain": [
              "<Figure size 432x288 with 1 Axes>"
            ]
          },
          "metadata": {
            "needs_background": "light"
          }
        }
      ]
    },
    {
      "cell_type": "markdown",
      "metadata": {
        "id": "m7amobKwRYti"
      },
      "source": [
        "To get the validation performances results, use the `evaluate()` method:"
      ]
    },
    {
      "cell_type": "markdown",
      "metadata": {
        "id": "mD2NyY2z0P7h"
      },
      "source": [
        "Evaluating the performance of the model:"
      ]
    },
    {
      "cell_type": "code",
      "metadata": {
        "colab": {
          "base_uri": "https://localhost:8080/"
        },
        "id": "xVdnfuEsvRNJ",
        "outputId": "f183b580-fb9b-4566-a850-487eb682fa09"
      },
      "source": [
        "#loading best model\n",
        "from keras.models import load_model\n",
        "#model = load_model('/content/best_model.h5')\n",
        "\n",
        "#evaluation \n",
        "_,val_acc = model.evaluate(x_val_seq,y_val, batch_size=128)\n",
        "print(val_acc)"
      ],
      "execution_count": null,
      "outputs": [
        {
          "output_type": "stream",
          "name": "stdout",
          "text": [
            "1518/1518 [==============================] - 2s 1ms/step\n",
            "0.9894598126411438\n"
          ]
        }
      ]
    },
    {
      "cell_type": "markdown",
      "metadata": {
        "id": "APCde5YTNftN"
      },
      "source": [
        "# Construct an embedding Matrix \n",
        "\n",
        "First of we will download Glove pre-trained embedding from the official site, (because of some technical constraints I had to download it via a code :"
      ]
    },
    {
      "cell_type": "code",
      "metadata": {
        "colab": {
          "base_uri": "https://localhost:8080/"
        },
        "id": "ro5qtWXODZhm",
        "outputId": "85e2eb80-f0d6-49b6-f612-f06a1c0ddd37"
      },
      "source": [
        "import os\n",
        "import tqdm\n",
        "import requests\n",
        "import zipfile\n",
        "URL = \"http://nlp.stanford.edu/data/glove.42B.300d.zip\"\n",
        "\n",
        "def fetch_data(url=URL, target_file='glove.zip', delete_zip=False):\n",
        "    #if the dataset already exists exit\n",
        "    if os.path.isfile(target_file):\n",
        "        print(\"datasets already downloded :) \")\n",
        "        return\n",
        "\n",
        "    #download (large) zip file\n",
        "    #for large https request on stream mode to avoid out of memory issues\n",
        "    #see : http://masnun.com/2016/09/18/python-using-the-requests-module-to-download-large-files-efficiently.html\n",
        "    print(\"**************************\")\n",
        "    print(\"  Downloading zip file\")\n",
        "    print(\"  >_<  Please wait >_< \")\n",
        "    print(\"**************************\")\n",
        "    response = requests.get(url, stream=True)\n",
        "    #read chunk by chunk\n",
        "    handle = open(target_file, \"wb\")\n",
        "    for chunk in tqdm.tqdm(response.iter_content(chunk_size=512)):\n",
        "        if chunk:  \n",
        "            handle.write(chunk)\n",
        "    handle.close()  \n",
        "    print(\"  Download completed ;) :\") \n",
        "    #extract zip_file\n",
        "    zf = zipfile.ZipFile(target_file)\n",
        "    print(\"1. Extracting {} file\".format(target_file))\n",
        "    zf.extractall()\n",
        "    if delete_zip:\n",
        "        print(\"2. Deleting {} file\".format(dataset_name+\".zip\"))\n",
        "        os.remove(path=zip_file)\n",
        "\n",
        "fetch_data()"
      ],
      "execution_count": null,
      "outputs": [
        {
          "output_type": "stream",
          "name": "stdout",
          "text": [
            "datasets already downloded :) \n"
          ]
        }
      ]
    },
    {
      "cell_type": "markdown",
      "metadata": {
        "id": "y5NZ79Bp3HVS"
      },
      "source": [
        "Now, it’s time to build version II using GloVe pretrained word embeddings. Let us load the GloVe embeddings into our environment:"
      ]
    },
    {
      "cell_type": "code",
      "metadata": {
        "colab": {
          "base_uri": "https://localhost:8080/"
        },
        "id": "gHOZ2k0Q6fih",
        "outputId": "241f7659-317e-446b-ac57-0b095a953613"
      },
      "source": [
        "# load the whole embedding into memory\n",
        "embeddings_index = dict()\n",
        "f = open('/content/glove.42B.300d.txt')\n",
        "for line in f:\n",
        "    values = line.split()\n",
        "    word = values[0]\n",
        "    coefs = np.asarray(values[1:], dtype='float32')\n",
        "    embeddings_index[word] = coefs\n",
        "f.close()\n",
        "print('Loaded %s word vectors.' % len(embeddings_index))"
      ],
      "execution_count": null,
      "outputs": [
        {
          "output_type": "stream",
          "name": "stdout",
          "text": [
            "Loaded 1917494 word vectors.\n"
          ]
        }
      ]
    },
    {
      "cell_type": "markdown",
      "metadata": {
        "id": "Yua0neWl6Aam"
      },
      "source": [
        "Create an embedding matrix by assigning the vocabulary with the pretrained word embeddings:"
      ]
    },
    {
      "cell_type": "code",
      "metadata": {
        "id": "UcALziXv5_3L"
      },
      "source": [
        "# create a weight matrix for words in training docs\n",
        "embedding_matrix = np.zeros((size_of_vocabulary, 300))\n",
        "\n",
        "for word, i in tokenizer.word_index.items():\n",
        "    embedding_vector = embeddings_index.get(word)\n",
        "    if embedding_vector is not None:\n",
        "        embedding_matrix[i] = embedding_vector"
      ],
      "execution_count": null,
      "outputs": []
    },
    {
      "cell_type": "markdown",
      "metadata": {
        "id": "Oj46XiTT6RPQ"
      },
      "source": [
        "Defining the Architecture – Pretrained embeddings:"
      ]
    },
    {
      "cell_type": "code",
      "metadata": {
        "colab": {
          "base_uri": "https://localhost:8080/"
        },
        "id": "rGyj0lXDvRSG",
        "outputId": "e6cc696d-adc2-48c6-e148-fc1da32dc419"
      },
      "source": [
        "model=Sequential()\n",
        "\n",
        "#embedding layer\n",
        "model.add(Embedding(size_of_vocabulary,300,weights=[embedding_matrix],input_length=90,trainable=False)) \n",
        "\n",
        "#convolutional layer\n",
        "model.add(Conv1D(128,2, activation='relu',\\\n",
        "                                 kernel_regularizer = regularizers.l2(0.01),\\\n",
        "                                 bias_regularizer = regularizers.l2(0.01)))\n",
        "\n",
        "#lstm layer\n",
        "model.add(LSTM(128,return_sequences=True,dropout=0.2))\n",
        "\n",
        "#Global Maxpooling\n",
        "model.add(GlobalMaxPooling1D())\n",
        "\n",
        "#Dense Layer\n",
        "model.add(Dense(64,activation='relu')) \n",
        "model.add(Dense(1,activation='sigmoid')) \n",
        "\n",
        "#Add loss function, metrics, optimizer\n",
        "model.compile(optimizer='adam', loss='binary_crossentropy',metrics=[\"acc\"]) \n",
        "\n",
        "#Adding callbacks\n",
        "es = EarlyStopping(monitor='val_loss', mode='min', verbose=1,patience=3)  \n",
        "mc=ModelCheckpoint('best_model.h5', monitor='val_acc', mode='max', save_best_only=True,verbose=1)  \n",
        "\n",
        "#Print summary of model\n",
        "print(model.summary())"
      ],
      "execution_count": null,
      "outputs": [
        {
          "output_type": "stream",
          "name": "stdout",
          "text": [
            "Model: \"sequential_2\"\n",
            "_________________________________________________________________\n",
            "Layer (type)                 Output Shape              Param #   \n",
            "=================================================================\n",
            "embedding_2 (Embedding)      (None, 90, 300)           4773300   \n",
            "_________________________________________________________________\n",
            "conv1d_2 (Conv1D)            (None, 89, 128)           76928     \n",
            "_________________________________________________________________\n",
            "lstm_2 (LSTM)                (None, 89, 128)           131584    \n",
            "_________________________________________________________________\n",
            "global_max_pooling1d_2 (Glob (None, 128)               0         \n",
            "_________________________________________________________________\n",
            "dense_3 (Dense)              (None, 64)                8256      \n",
            "_________________________________________________________________\n",
            "dense_4 (Dense)              (None, 1)                 65        \n",
            "=================================================================\n",
            "Total params: 4,990,133\n",
            "Trainable params: 216,833\n",
            "Non-trainable params: 4,773,300\n",
            "_________________________________________________________________\n",
            "None\n"
          ]
        }
      ]
    },
    {
      "cell_type": "markdown",
      "metadata": {
        "id": "4r5AKLQh6leG"
      },
      "source": [
        "As you can see here, the number of trainable parameters is just 216,833. That’s a huge drop compared to the embedding layer."
      ]
    },
    {
      "cell_type": "markdown",
      "metadata": {
        "id": "_sHa28Tk61SD"
      },
      "source": [
        "Training the model:"
      ]
    },
    {
      "cell_type": "code",
      "metadata": {
        "colab": {
          "base_uri": "https://localhost:8080/"
        },
        "id": "qdLA1ab1vRU7",
        "outputId": "084d6b7e-b64b-4148-fb53-dd7bb011e420"
      },
      "source": [
        "#fine tunning the model\n",
        "history = model.fit(np.array(x_tr_seq),np.array(y_train),batch_size=128,epochs=20,validation_data=(np.array(x_val_seq),np.array(y_val)),verbose=1,callbacks=[es,mc])"
      ],
      "execution_count": null,
      "outputs": [
        {
          "output_type": "stream",
          "name": "stdout",
          "text": [
            "Train on 6070 samples, validate on 1518 samples\n",
            "Epoch 1/20\n",
            "6070/6070 [==============================] - 29s 5ms/step - loss: 1.1355 - acc: 0.9265 - val_loss: 0.3796 - val_acc: 0.9842\n",
            "\n",
            "Epoch 00001: val_acc improved from -inf to 0.98419, saving model to best_model.h5\n",
            "Epoch 2/20\n",
            "6070/6070 [==============================] - 28s 5ms/step - loss: 0.1896 - acc: 0.9903 - val_loss: 0.1002 - val_acc: 0.9914\n",
            "\n",
            "Epoch 00002: val_acc improved from 0.98419 to 0.99144, saving model to best_model.h5\n",
            "Epoch 3/20\n",
            "6070/6070 [==============================] - 28s 5ms/step - loss: 0.0655 - acc: 0.9942 - val_loss: 0.0632 - val_acc: 0.9895\n",
            "\n",
            "Epoch 00003: val_acc did not improve from 0.99144\n",
            "Epoch 4/20\n",
            "6070/6070 [==============================] - 28s 5ms/step - loss: 0.0474 - acc: 0.9939 - val_loss: 0.0821 - val_acc: 0.9835\n",
            "\n",
            "Epoch 00004: val_acc did not improve from 0.99144\n",
            "Epoch 5/20\n",
            "6070/6070 [==============================] - 28s 5ms/step - loss: 0.0473 - acc: 0.9937 - val_loss: 0.0468 - val_acc: 0.9934\n",
            "\n",
            "Epoch 00005: val_acc improved from 0.99144 to 0.99341, saving model to best_model.h5\n",
            "Epoch 6/20\n",
            "6070/6070 [==============================] - 28s 5ms/step - loss: 0.0398 - acc: 0.9959 - val_loss: 0.0541 - val_acc: 0.9908\n",
            "\n",
            "Epoch 00006: val_acc did not improve from 0.99341\n",
            "Epoch 7/20\n",
            "6070/6070 [==============================] - 34s 6ms/step - loss: 0.0376 - acc: 0.9947 - val_loss: 0.0548 - val_acc: 0.9895\n",
            "\n",
            "Epoch 00007: val_acc did not improve from 0.99341\n",
            "Epoch 8/20\n",
            "6070/6070 [==============================] - 29s 5ms/step - loss: 0.0386 - acc: 0.9957 - val_loss: 0.0463 - val_acc: 0.9928\n",
            "\n",
            "Epoch 00008: val_acc did not improve from 0.99341\n",
            "Epoch 9/20\n",
            "6070/6070 [==============================] - 28s 5ms/step - loss: 0.0412 - acc: 0.9949 - val_loss: 0.0815 - val_acc: 0.9862\n",
            "\n",
            "Epoch 00009: val_acc did not improve from 0.99341\n",
            "Epoch 10/20\n",
            "6070/6070 [==============================] - 28s 5ms/step - loss: 0.0335 - acc: 0.9962 - val_loss: 0.0635 - val_acc: 0.9901\n",
            "\n",
            "Epoch 00010: val_acc did not improve from 0.99341\n",
            "Epoch 11/20\n",
            "6070/6070 [==============================] - 28s 5ms/step - loss: 0.0281 - acc: 0.9969 - val_loss: 0.0442 - val_acc: 0.9921\n",
            "\n",
            "Epoch 00011: val_acc did not improve from 0.99341\n",
            "Epoch 12/20\n",
            "6070/6070 [==============================] - 28s 5ms/step - loss: 0.0272 - acc: 0.9969 - val_loss: 0.0746 - val_acc: 0.9848\n",
            "\n",
            "Epoch 00012: val_acc did not improve from 0.99341\n",
            "Epoch 13/20\n",
            "6070/6070 [==============================] - 29s 5ms/step - loss: 0.0310 - acc: 0.9967 - val_loss: 0.0394 - val_acc: 0.9921\n",
            "\n",
            "Epoch 00013: val_acc did not improve from 0.99341\n",
            "Epoch 14/20\n",
            "6070/6070 [==============================] - 28s 5ms/step - loss: 0.0293 - acc: 0.9964 - val_loss: 0.0606 - val_acc: 0.9888\n",
            "\n",
            "Epoch 00014: val_acc did not improve from 0.99341\n",
            "Epoch 15/20\n",
            "6070/6070 [==============================] - 28s 5ms/step - loss: 0.0449 - acc: 0.9937 - val_loss: 0.0507 - val_acc: 0.9921\n",
            "\n",
            "Epoch 00015: val_acc did not improve from 0.99341\n",
            "Epoch 16/20\n",
            "6070/6070 [==============================] - 29s 5ms/step - loss: 0.0276 - acc: 0.9980 - val_loss: 0.0371 - val_acc: 0.9934\n",
            "\n",
            "Epoch 00016: val_acc did not improve from 0.99341\n",
            "Epoch 17/20\n",
            "6070/6070 [==============================] - 29s 5ms/step - loss: 0.0389 - acc: 0.9941 - val_loss: 0.0586 - val_acc: 0.9914\n",
            "\n",
            "Epoch 00017: val_acc did not improve from 0.99341\n",
            "Epoch 18/20\n",
            "6070/6070 [==============================] - 29s 5ms/step - loss: 0.0322 - acc: 0.9975 - val_loss: 0.0474 - val_acc: 0.9881\n",
            "\n",
            "Epoch 00018: val_acc did not improve from 0.99341\n",
            "Epoch 19/20\n",
            "6070/6070 [==============================] - 29s 5ms/step - loss: 0.0299 - acc: 0.9964 - val_loss: 0.0698 - val_acc: 0.9881\n",
            "\n",
            "Epoch 00019: val_acc did not improve from 0.99341\n",
            "Epoch 00019: early stopping\n"
          ]
        }
      ]
    },
    {
      "cell_type": "markdown",
      "metadata": {
        "id": "mzbS2actNFNX"
      },
      "source": [
        "The plot for loss between the training set and validation set."
      ]
    },
    {
      "cell_type": "code",
      "metadata": {
        "colab": {
          "base_uri": "https://localhost:8080/",
          "height": 281
        },
        "id": "pG5DuwQ66foy",
        "outputId": "8f5c8cdc-bc4e-4619-95bb-18f2a7e366b8"
      },
      "source": [
        "plt.figure(3)\n",
        "\n",
        "plt.title(\"Loss\")\n",
        "\n",
        "plt.plot(history.history['loss'], 'r', label='Training')\n",
        "\n",
        "plt.plot(history.history['val_loss'], 'b', label='Validation')\n",
        "\n",
        "plt.legend()\n",
        "\n",
        "plt.show()"
      ],
      "execution_count": null,
      "outputs": [
        {
          "output_type": "display_data",
          "data": {
            "image/png": "[encoded data removed]",
            "text/plain": [
              "<Figure size 432x288 with 1 Axes>"
            ]
          },
          "metadata": {
            "needs_background": "light"
          }
        }
      ]
    },
    {
      "cell_type": "markdown",
      "metadata": {
        "id": "rE80YExCNX2q"
      },
      "source": [
        "The plot for accuracy between the training and validatation"
      ]
    },
    {
      "cell_type": "code",
      "metadata": {
        "colab": {
          "base_uri": "https://localhost:8080/",
          "height": 281
        },
        "id": "z-WbXMja6fuW",
        "outputId": "95447fe4-c23a-452c-8374-cf03561c84a1"
      },
      "source": [
        "plt.figure(4)\n",
        "\n",
        "plt.title(\"Accuracy\")\n",
        "\n",
        "plt.plot(history.history['acc'], 'r', label='Training')\n",
        "\n",
        "plt.plot(history.history['val_acc'], 'b', label='Validation')\n",
        "\n",
        "plt.legend()\n",
        "\n",
        "plt.show()"
      ],
      "execution_count": null,
      "outputs": [
        {
          "output_type": "display_data",
          "data": {
            "image/png": "[encoded data removed]",
            "text/plain": [
              "<Figure size 432x288 with 1 Axes>"
            ]
          },
          "metadata": {
            "needs_background": "light"
          }
        }
      ]
    },
    {
      "cell_type": "markdown",
      "metadata": {
        "id": "eycqQhyn7niF"
      },
      "source": [
        "Evaluating the performance of the model:"
      ]
    },
    {
      "cell_type": "code",
      "metadata": {
        "colab": {
          "base_uri": "https://localhost:8080/"
        },
        "id": "81f-nhuTvRXH",
        "outputId": "a2bb736b-ef9d-4f9b-8bc4-a83c16de0dc0"
      },
      "source": [
        "#loading best model\n",
        "from keras.models import load_model\n",
        "#model = load_model('best_model.h5')\n",
        "\n",
        "#evaluation \n",
        "_,val_acc = model.evaluate(x_val_seq,y_val, batch_size=128)\n",
        "print(val_acc)"
      ],
      "execution_count": null,
      "outputs": [
        {
          "output_type": "stream",
          "name": "stdout",
          "text": [
            "1518/1518 [==============================] - 2s 1ms/step\n",
            "0.9881423115730286\n"
          ]
        }
      ]
    },
    {
      "cell_type": "markdown",
      "metadata": {
        "id": "0ocZ81DOOS5h"
      },
      "source": [
        "The performance has increased using pretrained word embeddings compared to learning embeddings from scratch."
      ]
    },
    {
      "cell_type": "markdown",
      "metadata": {
        "id": "uek_05CeSwQS"
      },
      "source": [
        "Pretrained word embeddings are the most powerful way of representing a text as they tend to capture the semantic and syntactic meaning of a word. We have learned the importance of pretrained word embeddings and discussed 2 popular pretrained word embeddings – Word2Vec and gloVe."
      ]
    }
  ]
}